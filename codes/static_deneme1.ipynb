{
  "nbformat": 4,
  "nbformat_minor": 0,
  "metadata": {
    "colab": {
      "provenance": [],
      "machine_shape": "hm"
    },
    "kernelspec": {
      "name": "python3",
      "display_name": "Python 3"
    },
    "language_info": {
      "name": "python"
    }
  },
  "cells": [
    {
      "cell_type": "code",
      "execution_count": null,
      "metadata": {
        "colab": {
          "base_uri": "https://localhost:8080/"
        },
        "id": "_XFY2KB7K2Jm",
        "outputId": "857a6351-0ab4-4d6c-dbdc-f8668db73814"
      },
      "outputs": [
        {
          "output_type": "stream",
          "name": "stdout",
          "text": [
            "Tüm bölgeler & saatler için ortalama hız: 44.96 km/h\n",
            "\n",
            "Her district için ortalama hız:\n",
            "district\n",
            "Beşiktaş     36.550254\n",
            "Kağıthane    39.004765\n",
            "Sarıyer      49.835363\n",
            "Şişli        31.271707\n",
            "Name: average_speed, dtype: float64\n"
          ]
        }
      ],
      "source": [
        "import pandas as pd\n",
        "\n",
        "traffic_data_path = '/content/drive/MyDrive/Colab Notebooks/traffic_hourly_avg_filtered_districts.csv'\n",
        "\n",
        "df = pd.read_csv(traffic_data_path)\n",
        "\n",
        "df.columns = [c.lower().strip() for c in df.columns]\n",
        "\n",
        "average_speed = df['average_speed'].mean()\n",
        "print(f\"Average speed for all districts & hours: {average_speed:.2f} km/h\")\n",
        "\n",
        "avg_speed_by_district = df.groupby('district')['average_speed'].mean()\n",
        "print(\"\\nAverage speed by district:\")\n",
        "print(avg_speed_by_district)\n"
      ]
    },
    {
      "cell_type": "code",
      "source": [
        "import pandas as pd\n",
        "import numpy as np\n",
        "from geopy.distance import geodesic\n",
        "\n",
        "fire_station_file_path = '/content/drive/MyDrive/Colab Notebooks/filtered_itfaiye.csv'\n",
        "demand_file_path = '/content/drive/MyDrive/Colab Notebooks/final_critical_demand_zones_80_for_success.csv'\n",
        "\n",
        "MEAN_SPEED_KPH = 44.96\n",
        "\n",
        "df_stations = pd.read_csv(fire_station_file_path)\n",
        "df_stations['latitude'] = df_stations['Koordinat (X)']\n",
        "df_stations['longitude'] = df_stations['Koordinat (Y)']\n",
        "station_names = df_stations['Birim'].tolist()\n",
        "\n",
        "df_demands = pd.read_csv(demand_file_path)\n",
        "df_demands['latitude'] = df_demands['LATITUDE']\n",
        "df_demands['longitude'] = df_demands['LONGITUDE']\n",
        "demand_ids = df_demands['GEOHASH'].tolist()\n",
        "\n",
        "num_stations = len(df_stations)\n",
        "num_demands = len(df_demands)\n",
        "\n",
        "Tij_matrix = np.zeros((num_stations, num_demands))\n",
        "\n",
        "for i in range(num_stations):\n",
        "    station_coord = (df_stations.loc[i, 'latitude'], df_stations.loc[i, 'longitude'])\n",
        "    for j in range(num_demands):\n",
        "        demand_coord = (df_demands.loc[j, 'latitude'], df_demands.loc[j, 'longitude'])\n",
        "        distance_m = geodesic(station_coord, demand_coord).meters\n",
        "        time_sec = distance_m / (MEAN_SPEED_KPH * 1000 / 3600)\n",
        "        Tij_matrix[i, j] = time_sec\n",
        "\n",
        "Tij_df = pd.DataFrame(Tij_matrix, index=station_names, columns=demand_ids)\n",
        "Tij_df.to_csv('/content/drive/MyDrive/Colab Notebooks/matrix/STATIC_Tij_matrix_80_for_success.csv', encoding='utf-8-sig')\n",
        "print(\"Static Tij matrix created and saved successfully!\")\n"
      ],
      "metadata": {
        "colab": {
          "base_uri": "https://localhost:8080/"
        },
        "id": "q-ddctq_VOey",
        "outputId": "615e0f2c-00cd-4fe1-c693-f45b070f79f0"
      },
      "execution_count": null,
      "outputs": [
        {
          "output_type": "stream",
          "name": "stdout",
          "text": [
            "Statik Tij matrisi başarıyla oluşturuldu ve kaydedildi!\n"
          ]
        }
      ]
    },
    {
      "cell_type": "code",
      "source": [
        "import pandas as pd\n",
        "import numpy as np\n",
        "\n",
        "fire_station_file_path = '/content/drive/MyDrive/Colab Notebooks/filtered_itfaiye.csv'\n",
        "selected_demand_zones_file_path = '/content/drive/MyDrive/Colab Notebooks/selected_80_demand_zones.csv'\n",
        "STATIC_AVG_SPEED_KPH = 44.96\n",
        "\n",
        "def haversine(lon1, lat1, lon2, lat2):\n",
        "    R = 6371\n",
        "    lon1, lat1, lon2, lat2 = map(np.radians, [lon1, lat1, lon2, lat2])\n",
        "    dlon = lon2 - lon1\n",
        "    dlat = lat2 - lat1\n",
        "    a = np.sin(dlat/2.0)**2 + np.cos(lat1) * np.cos(lat2) * np.sin(dlon/2.0)**2\n",
        "    c = 2 * np.arcsin(np.sqrt(a))\n",
        "    return R * c\n",
        "\n",
        "fire_station_df = pd.read_csv(fire_station_file_path)\n",
        "demand_df = pd.read_csv(selected_demand_zones_file_path)\n",
        "\n",
        "if 'Koordinat (X)' in fire_station_df.columns and 'Koordinat (Y)' in fire_station_df.columns:\n",
        "    fire_station_lat = fire_station_df['Koordinat (X)'].astype(float).values\n",
        "    fire_station_lon = fire_station_df['Koordinat (Y)'].astype(float).values\n",
        "else:\n",
        "    fire_station_lat = fire_station_df['latitude'].astype(float).values\n",
        "    fire_station_lon = fire_station_df['longitude'].astype(float).values\n",
        "\n",
        "if 'LATITUDE' in demand_df.columns and 'LONGITUDE' in demand_df.columns:\n",
        "    demand_lat = demand_df['LATITUDE'].astype(float).values\n",
        "    demand_lon = demand_df['LONGITUDE'].astype(float).values\n",
        "else:\n",
        "    demand_lat = demand_df['latitude'].astype(float).values\n",
        "    demand_lon = demand_df['longitude'].astype(float).values\n",
        "\n",
        "num_stations = len(fire_station_lat)\n",
        "num_demands = len(demand_lat)\n",
        "Tij_matrix = np.zeros((num_stations, num_demands))\n",
        "\n",
        "for i in range(num_stations):\n",
        "    for j in range(num_demands):\n",
        "        dist_km = haversine(fire_station_lon[i], fire_station_lat[i], demand_lon[j], demand_lat[j])\n",
        "        travel_time_hr = dist_km / STATIC_AVG_SPEED_KPH\n",
        "        Tij_matrix[i, j] = travel_time_hr * 3600\n",
        "\n",
        "station_names = fire_station_df['Birim'].tolist() if 'Birim' in fire_station_df.columns else [f'Station_{i}' for i in range(num_stations)]\n",
        "demand_ids = demand_df['GEOHASH'].tolist() if 'GEOHASH' in demand_df.columns else [f'Demand_{j}' for j in range(num_demands)]\n",
        "\n",
        "Tij_df = pd.DataFrame(Tij_matrix, index=station_names, columns=demand_ids)\n",
        "Tij_df.to_csv('/content/drive/MyDrive/Colab Notebooks/matrix/STATIC_kmeans80_Tij_matrix.csv', encoding='utf-8-sig')\n",
        "\n",
        "print(\"Static (Euclidean + constant speed) Tij matrix created and saved.\")\n"
      ],
      "metadata": {
        "colab": {
          "base_uri": "https://localhost:8080/"
        },
        "id": "3lHeNLMaTG3p",
        "outputId": "ac9171b0-d214-48db-8363-f014388f2212"
      },
      "execution_count": null,
      "outputs": [
        {
          "output_type": "stream",
          "name": "stdout",
          "text": [
            "Statik (Öklid+Sabit hız) Tij matrisi oluşturuldu ve kaydedildi.\n"
          ]
        }
      ]
    }
  ]
}